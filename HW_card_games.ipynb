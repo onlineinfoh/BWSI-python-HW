{
 "cells": [
  {
   "cell_type": "markdown",
   "metadata": {
    "ein.tags": "worksheet-0",
    "slideshow": {
     "slide_type": "-"
    }
   },
   "source": [
    "# Card Games\n",
    "\n",
    "To exercise the skills that we've learned in [object-oriented programming](https://www.pythonlikeyoumeanit.com/module_4.html) let's write a few card games! First off, we'll need to build ourselves a deck of cards."
   ]
  },
  {
   "cell_type": "markdown",
   "metadata": {
    "ein.tags": "worksheet-0",
    "slideshow": {
     "slide_type": "-"
    }
   },
   "source": [
    "## Problem 1: Card\n",
    "\n",
    "To play card games, we'll first need some cards! Let's define a `Card` class that we'll be able to store in a `Deck`\n",
    "object later on. To get comfortable with writing classes, we'll start out with a skeleton. Later on you'll build your\n",
    "own `Deck` class from scratch.\n",
    "\n",
    "First, let's decide on the set of features we want out of our `Card` object:\n",
    "\n",
    "##### Rank Each `Card` should keep track of its `rank`. These are the ranks 2, 3, 4, 5, 6, 7, 8, 9, 10, Jack, Queen,\n",
    "King, and Ace. We can easily store this as an integer from 2 to 14. We should be able to access this by calling `.rank`\n",
    "on a `Card`:\n",
    "\n",
    "``` python\n",
    ">>> Card(3, \"C\").rank\n",
    "3\n",
    "```\n",
    "\n",
    "##### Suit\n",
    "Each one of our `Card`s will be one of four suits: Clubs, Hearts, Spades, or Diamonds. Let's store this in a string.\n",
    "We should be able to access this by calling `.suit` on a `Card`:\n",
    "\n",
    "``` python\n",
    ">>> Card(4, \"D\").suit\n",
    "'D'\n",
    "```\n",
    "\n",
    "##### repr\n",
    "We should override the `__repr__` function of our `Card` class so that it will print nicely. We'll write this\n",
    "to print out \"[rank] of [suit]\" where [rank] is the rank of our card and [suit] is its suit. For example:\n",
    "\n",
    "``` python\n",
    ">>> Card(7, 'H')\n",
    "7 of Hearts\n",
    "```\n",
    "\n",
    "##### Comparison functions\n",
    "For some games, we may wish to compare the ranks of two `Card`s against each other. The final functions we'll write for our `Card` class are the comparators `<, <=, ==, >=, >`\n",
    "\n",
    "```python\n",
    ">>> Card(2, 'H') < Card(10, 'S')\n",
    "True\n",
    "\n",
    ">>> Card(4, 'C') == Card(4, 'D')\n",
    "True\n",
    "\n",
    ">>> Card(8, 'D') >= Card(14, 'D')\n",
    "False\n",
    "```"
   ]
  },
  {
   "cell_type": "markdown",
   "metadata": {
    "ein.tags": "worksheet-0",
    "slideshow": {
     "slide_type": "-"
    }
   },
   "source": [
    "Fill out the remainder of the `Card` class below to function as described above."
   ]
  },
  {
   "cell_type": "code",
   "execution_count": 98,
   "metadata": {
    "autoscroll": false,
    "collapsed": false,
    "ein.hycell": false,
    "ein.tags": "worksheet-0",
    "jupyter": {
     "outputs_hidden": false
    },
    "slideshow": {
     "slide_type": "-"
    },
    "tags": []
   },
   "outputs": [],
   "source": [
    "class Card:\n",
    "    \n",
    "    _rank_to_str = {11: 'Jack', 12: 'Queen', 13: 'King', 14: 'Ace'}\n",
    "    _suit_to_str = {'C': 'Clubs', 'H': 'Hearts', 'S': 'Spades', 'D': 'Diamonds'}\n",
    "\n",
    "    def __init__(self, rank: int, suit: str):\n",
    "        assert 2 <= rank <= 14, 'Valid ranks are [2, 14] for the ranks: [2, 3, 4, 5, 6, 7, 8, 9, 10, J, Q, K, A]'\n",
    "        assert suit.upper() in {'C', 'H', 'S', 'D'}, 'Valid suits are [C, H, S, D]'\n",
    "\n",
    "        self.rank = rank\n",
    "        self.suit = suit\n",
    "\n",
    "    def __repr__(self):\n",
    "        Rank = 0\n",
    "        if(self.rank<=10):\n",
    "            Rank = self.rank\n",
    "        else:\n",
    "            Rank = self._rank_to_str[self.rank]\n",
    "        Suit = self._suit_to_str[self.suit]\n",
    "        return f\"{Rank} of {Suit}\"\n",
    "\n",
    "    def __lt__(self, other):\n",
    "        \"\"\" Determine whether the rank of this card is less than the rank of the other. \"\"\"\n",
    "        return self.rank < other.rank\n",
    "        pass\n",
    "\n",
    "    def __gt__(self, other):\n",
    "        \"\"\" Determine whether the rank of this card is greater than the rank of the other. \"\"\"\n",
    "        return self.rank > other.rank\n",
    "        pass\n",
    "\n",
    "    def __le__(self, other):\n",
    "        \"\"\" Determine whether the rank of this card is less than or equal to the rank of the other. \"\"\"\n",
    "        # student code goes here\n",
    "        return self.rank<=other.rank\n",
    "        pass\n",
    "\n",
    "    def __ge__(self, other):\n",
    "        \"\"\" Determine whether the rank of this card is greater than or equal to the rank of the other. \"\"\"\n",
    "        # student code goes here\n",
    "        return self.rank >= other.rank\n",
    "        pass\n",
    "\n",
    "    def __eq__(self, other):\n",
    "        \"\"\" Determine whether the rank of this card is equal to the rank of the other. \"\"\"\n",
    "        # student code goes here\n",
    "        return self.rank == other.rank\n",
    "        pass"
   ]
  },
  {
   "cell_type": "code",
   "execution_count": 9,
   "metadata": {
    "tags": []
   },
   "outputs": [
    {
     "data": {
      "text/plain": [
       "4 of Diamonds"
      ]
     },
     "execution_count": 9,
     "metadata": {},
     "output_type": "execute_result"
    }
   ],
   "source": [
    "my_card = Card(4, 'D')\n",
    "my_card"
   ]
  },
  {
   "cell_type": "code",
   "execution_count": 3,
   "metadata": {
    "autoscroll": false,
    "collapsed": false,
    "ein.hycell": false,
    "ein.tags": "worksheet-0",
    "jupyter": {
     "outputs_hidden": false
    },
    "slideshow": {
     "slide_type": "-"
    },
    "tags": []
   },
   "outputs": [
    {
     "name": "stdout",
     "output_type": "stream",
     "text": [
      "Using grader version 1.12.0\n",
      "\n",
      "============================== ALL TESTS PASSED! ===============================\n",
      "Your submission code: bwabc5aa6455fb9d6443e1082a806bb8e3780e8d40ceb71cd855d811b0\n",
      "================================================================================\n",
      "\n"
     ]
    }
   ],
   "source": [
    "from bwsi_grader.python.card_games import grade_card\n",
    "grade_card(Card)"
   ]
  },
  {
   "cell_type": "markdown",
   "metadata": {
    "ein.tags": "worksheet-0",
    "slideshow": {
     "slide_type": "-"
    }
   },
   "source": [
    "## Problem 2: Deck\n",
    "\n",
    "Now that we have a `Card` object that we can use, in order to play games we'll need to arrange them in a `Deck`. With\n",
    "one class definition under our belts, let's write this one from scratch! Let's define the functionality we need out of\n",
    "our `Deck`.\n",
    "\n",
    "##### init \n",
    "A `Deck` should take one argument to its constructor: `shuffled`, which is a boolean variable indicating\n",
    "whether the deck should be initialized in sorted order or shuffled. This should be an optional parameter, which is\n",
    "`False` by default. It can simply be initialized as `my_deck = Deck()` or you can explicitly pass in whether to shuffle\n",
    "the deck: `my_shuffled_deck = Deck(True)`. This initialization function should create a member variable `cards` that\n",
    "holds a list of `Card`s. That member variable should be initialized with a whole set of 52 cards: 2, 3, 4, 5, 6, 7, 8,\n",
    "9, 10, J, Q, K, A of each of the four suits.\n",
    "\n",
    "Additionally, the initialization function should keep track of the number of cards that have been dealt. This will be\n",
    "initialized to zero.\n",
    "\n",
    "Finally, a `Deck` should keep track of whether it has been shuffled. If the `Deck` is not shuffled, it should be in\n",
    "sorted order. It may start with any suit, but it should follow the order 2, 3, 4, ..., 10, J, Q, K, A, 2, 3, 4, ..., K,\n",
    "A for each suit. We should be able to access this through a `shuffled` parameter:\n",
    "\n",
    "``` python\n",
    ">>> Deck().shuffled\n",
    "False\n",
    "\n",
    ">>> Deck(shuffled=True).shuffled\n",
    "True\n",
    "```\n",
    "\n",
    "##### shuffle \n",
    "A `Deck` object won't do us any good for playing games if we can't shuffle it! We'll write a function\n",
    "called `shuffle` that will allow us to shuffle our deck. This will take no parameters. Instead, it will simply be called\n",
    "as `my_deck.shuffle()`. You may find the [random](https://docs.python.org/3/library/random.html) module helpful here.\n",
    "\n",
    "##### deal_card\n",
    "A `Deck` object should be able to deal `Card`s off the top. We'll write a function `deal_card` that\n",
    "returns the `Card` object at the top of the deck. That is, we might create a `Deck` and pull the top card off like so:\n",
    "\n",
    "``` python\n",
    ">>> my_deck = Deck()\n",
    ">>> my_deck.deal_card()\n",
    "2 of Clubs\n",
    "\n",
    ">>> my_deck = Deck()\n",
    ">>> my_deck.shuffle()\n",
    ">>> my_deck.deal_card()\n",
    "Queen of Spades\n",
    "```\n",
    "\n",
    "This function should also increment our variable tracking the number of `Card`s we've dealt. Importantly, our `Deck`\n",
    "shouldn't deal cards once we've gotten to the end of the deck. If we reach the end, instead of returning the next\n",
    "`Card`, we'll return `None`:\n",
    "\n",
    "``` python\n",
    ">>> my_deck = Deck()\n",
    ">>> throwaway = [my_deck.deal_card() for _ in range(50)]\n",
    ">>> [my_deck.deal_card() for _ in range(5)]\n",
    "[King of Diamonds, Ace of Diamonds, None, None, None]\n",
    "\n",
    ">>> my_deck\n",
    "Deck(dealt 52, shuffled=False)\n",
    "```\n",
    "\n",
    "##### repr\n",
    "We'll write our own `__repr__` function for the `Deck` class just as we did with `Card`. The repr in this\n",
    "class will simply print out that it is a `Deck` object, the number of cards that have been dealt, and whether the deck\n",
    "has been shuffled:\n",
    "\n",
    "``` python\n",
    ">>> my_deck = Deck()\n",
    ">>> my_deck\n",
    "Deck(dealt 0, shuffled=False)\n",
    "\n",
    ">>> top_card = my_deck.deal_card()\n",
    ">>> my_deck\n",
    "Deck(dealt 1, shuffled=False)\n",
    "\n",
    ">>> my_deck = Deck()\n",
    ">>> my_deck.shuffle()\n",
    ">>> hand = [my_deck.deal_card() for _ in range(5)]\n",
    ">>> my_deck\n",
    "Deck(dealt 5, shuffled=True)\n",
    "```\n",
    "\n",
    "##### reset\n",
    "Finally, let's write a `reset` function so that we don't have to construct a new `Deck` every time we want\n",
    "to use one. Imagine how ridiculous it would be if we had to go out and buy a new set of cards every time we wanted to\n",
    "play a game! The `reset` function should do exactly what our `__init__` function does: reset our counter and `shuffled`\n",
    "variable and set the `Card`s in our deck in order:\n",
    "\n",
    "``` python\n",
    ">>> my_deck = Deck()\n",
    ">>> my_deck.shuffle()\n",
    ">>> throwaways = [my_deck.deal_card() for _ in range(27)]\n",
    ">>> my_deck\n",
    "Deck(dealt 27, shuffled=True)\n",
    "\n",
    ">>> my_deck.reset()\n",
    ">>> my_deck\n",
    "Deck(dealt 0, shuffled=False)\n",
    "```"
   ]
  },
  {
   "cell_type": "markdown",
   "metadata": {
    "ein.tags": "worksheet-0",
    "slideshow": {
     "slide_type": "-"
    }
   },
   "source": [
    "Create the `Deck` class as decribed above."
   ]
  },
  {
   "cell_type": "code",
   "execution_count": 104,
   "metadata": {
    "tags": []
   },
   "outputs": [
    {
     "data": {
      "text/plain": [
       "Jack of Clubs"
      ]
     },
     "execution_count": 104,
     "metadata": {},
     "output_type": "execute_result"
    }
   ],
   "source": [
    "Card(11, \"C\")"
   ]
  },
  {
   "cell_type": "code",
   "execution_count": 197,
   "metadata": {
    "tags": []
   },
   "outputs": [],
   "source": [
    "import random\n",
    "class Deck:\n",
    "    def __init__(self, shuffled = False):\n",
    "        self.shuffled = shuffled\n",
    "        self.ranks = [2, 3, 4, 5, 6, 7, 8, 9, 10, 11, 12, 13, 14]\n",
    "        self.suits = ['C', 'D', 'H', 'S']\n",
    "        output = []\n",
    "        for suit in self.suits:\n",
    "            for rank in self.ranks:\n",
    "                output.append(Card(rank, suit))\n",
    "        self.cards = output\n",
    "        self.dealt_num = 0\n",
    "        \n",
    "        if shuffled:\n",
    "            random.shuffle(self.cards)\n",
    "    \n",
    "    def shuffle(self):\n",
    "        random.shuffle(self.cards)\n",
    "        self.shuffled = True\n",
    "        \n",
    "    def __repr__(self):\n",
    "        return f\"Deck(dealt {self.dealt_num}, shuffled={self.shuffled})\"\n",
    "    \n",
    "    def deal_card(self):\n",
    "        if(self.dealt_num<=51):\n",
    "            card = self.cards[self.dealt_num]\n",
    "            self.dealt_num+=1\n",
    "            return card\n",
    "            \n",
    "        else:\n",
    "            return None\n",
    "    \n",
    "    def reset(self):\n",
    "        self.dealt_num = 0\n",
    "        self.shuffled = False\n",
    "        output = []\n",
    "        for suit in self.suits:\n",
    "            for rank in self.ranks:\n",
    "                output.append(Card(rank, suit))\n",
    "        self.cards = output"
   ]
  },
  {
   "cell_type": "code",
   "execution_count": 198,
   "metadata": {
    "tags": []
   },
   "outputs": [],
   "source": [
    "my_deck = Deck()\n",
    "my_deck.reset()"
   ]
  },
  {
   "cell_type": "code",
   "execution_count": 199,
   "metadata": {
    "autoscroll": false,
    "collapsed": false,
    "ein.hycell": false,
    "ein.tags": "worksheet-0",
    "jupyter": {
     "outputs_hidden": false
    },
    "slideshow": {
     "slide_type": "-"
    }
   },
   "outputs": [
    {
     "name": "stdout",
     "output_type": "stream",
     "text": [
      "\n",
      "============================== ALL TESTS PASSED! ===============================\n",
      "Your submission code: bwf8a088b2b1cbf19866aeb09e7b47119b3f7a822a756710366584214a\n",
      "================================================================================\n",
      "\n"
     ]
    }
   ],
   "source": [
    "from bwsi_grader.python.card_games import grade_deck\n",
    "grade_deck(Deck)"
   ]
  },
  {
   "cell_type": "markdown",
   "metadata": {
    "ein.tags": "worksheet-0",
    "slideshow": {
     "slide_type": "-"
    }
   },
   "source": [
    "With our `Deck` and `Card`s written out, let's write a very simple game of high-low. We'll just deal the top card to\n",
    "each of two players and determine whether Player 1 or Player 2 has the highest."
   ]
  },
  {
   "cell_type": "code",
   "execution_count": 200,
   "metadata": {
    "autoscroll": false,
    "collapsed": false,
    "ein.hycell": false,
    "ein.tags": "worksheet-0",
    "jupyter": {
     "outputs_hidden": false
    },
    "slideshow": {
     "slide_type": "-"
    }
   },
   "outputs": [],
   "source": [
    "def play_high_low_game(n):\n",
    "   \n",
    "    tie = 0\n",
    "    one = 0\n",
    "    two = 0\n",
    "    for _ in range(n):\n",
    "        d = Deck(shuffled=True)\n",
    "        p1 = d.deal_card()\n",
    "        p2 = d.deal_card()\n",
    "        if(p1 == p2):\n",
    "            tie+=1\n",
    "        else:\n",
    "            if(p1>p2):\n",
    "                one+=1\n",
    "            else:\n",
    "                two+=1\n",
    "    return f\"Tie: {tie}   One Win: {one}   Two Win: {two}\"\n",
    "    #print(\"It's a tie!\" if p1 == p2 else f'Player {1 if p1 > p2 else 2} wins!')\n",
    "    #print(f'Player 1 had the {p1} and Player 2 had the {p2}')"
   ]
  },
  {
   "cell_type": "code",
   "execution_count": 201,
   "metadata": {
    "autoscroll": false,
    "collapsed": false,
    "ein.hycell": false,
    "ein.tags": "worksheet-0",
    "jupyter": {
     "outputs_hidden": false
    },
    "slideshow": {
     "slide_type": "-"
    }
   },
   "outputs": [
    {
     "data": {
      "text/plain": [
       "'Tie: 1   One Win: 12   Two Win: 21'"
      ]
     },
     "execution_count": 201,
     "metadata": {},
     "output_type": "execute_result"
    }
   ],
   "source": [
    "play_high_low_game(34)"
   ]
  },
  {
   "cell_type": "markdown",
   "metadata": {
    "ein.tags": "worksheet-0",
    "slideshow": {
     "slide_type": "-"
    }
   },
   "source": [
    "See what other games you can create with your new `Deck` of `Card`s!"
   ]
  },
  {
   "cell_type": "code",
   "execution_count": null,
   "metadata": {},
   "outputs": [],
   "source": []
  }
 ],
 "metadata": {
  "kernelspec": {
   "display_name": "Python 3 (ipykernel)",
   "language": "python",
   "name": "python3"
  },
  "language_info": {
   "codemirror_mode": {
    "name": "ipython",
    "version": 3
   },
   "file_extension": ".py",
   "mimetype": "text/x-python",
   "name": "python",
   "nbconvert_exporter": "python",
   "pygments_lexer": "ipython3",
   "version": "3.11.5"
  },
  "name": "HW_card_games.ipynb"
 },
 "nbformat": 4,
 "nbformat_minor": 4
}
