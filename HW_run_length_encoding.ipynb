{
 "cells": [
  {
   "cell_type": "markdown",
   "metadata": {
    "tags": []
   },
   "source": [
    "# Run-Length Encoding\n",
    "Run-length encoding is a simple method for compressing data that contains long sequences of repeated characters. \n",
    "\n",
    "In this compression algorithm:\n",
    "1. A standalone character will be unchanged. E.g `\"a\"` $\\rightarrow$ `[\"a\"]`. \n",
    "2. A run of a character, `c`, repeated `N` times will be compressed to `[\"c\", \"c\", N]`. E.g. `\"bbbb\"` $\\rightarrow$ `['b', 'b', 4]`. \n",
    "\n",
    "These two rules are all that you need to perform run-length encoding.\n",
    "\n",
    "Let's look at a few examples of run-length-encoding:\n",
    "\n",
    "- `\"abcd\"` $\\rightarrow$ `['a', 'b', 'c', 'd']`\n",
    "- `\"abbbba\"` $\\rightarrow$ `['a', 'b', 'b', 4, 'a']`\n",
    "- `\"aaaabbcccd\"` $\\rightarrow$ `['a', 'a', 4, 'b', 'b', 2, 'c', 'c', 3, 'd']`\n",
    "- `\"\"` $\\rightarrow$ `[]`\n",
    "- `\"1\"` $\\rightarrow$ `[\"1\"]`\n",
    "\n",
    "The decompression algorithm, run-length decoding, simply reverses this process:\n",
    "\n",
    "- `['q', 'a', 'a', 4, 'b', 'b', 2, 'c', 'c', 3, 'd']` $\\rightarrow$ `'qaaaabbcccd'`\n",
    "\n",
    "Here, you will implement a run-length encoding and decoding algorithms. As indicated above, the run-length encoding algorithm should be able to accept a string and return a list with the appropriate string/integer entries, according to the encoding. The decoding algorithm need be able to accept a list with an encoded sequence, and return the decoded string.\n",
    "\n",
    "You should be able to test both of your algorithms by feeding them into one another:\n",
    "```python\n",
    ">>> decoder(encoder(\"Wooooow!!!!! I'm totally getting compressed\"))\n",
    "\"Wooooow!!!!! I'm totally getting compressed\"\n",
    "```"
   ]
  },
  {
   "cell_type": "code",
   "execution_count": 91,
   "metadata": {
    "tags": []
   },
   "outputs": [],
   "source": [
    "# make sure to execute this cell so that your function is defined\n",
    "# you must re-run this cell any time you make a change to this function\n",
    "\n",
    "def run_length_decoder(in_list):\n",
    "    output = ''\n",
    "    if(len(in_list) == 0):\n",
    "        return output\n",
    "    if(len(in_list) == 1):\n",
    "        return in_list[0]\n",
    "    \n",
    "    cur = in_list[0]\n",
    "    for i in range(len(in_list)):\n",
    "        if(i != len(in_list)-1):\n",
    "            if(isinstance(in_list[i], int)):\n",
    "                for a in range(in_list[i]):\n",
    "                    output+=cur\n",
    "                cur = ''\n",
    "            else:\n",
    "                if(cur != in_list[i]):\n",
    "                    output+=cur\n",
    "                    cur = in_list[i]\n",
    "        else:\n",
    "            if(isinstance(in_list[i], int)):\n",
    "                for a in range(in_list[i]):\n",
    "                    output+=cur\n",
    "                cur = ''\n",
    "            else:\n",
    "                output+=cur\n",
    "                output+=in_list[i]\n",
    "    \n",
    "    return output\n",
    "    # write your code here\n",
    "    # be sure to include a `return` statement so that\n",
    "    # your function returns the appropriate object."
   ]
  },
  {
   "cell_type": "code",
   "execution_count": 92,
   "metadata": {
    "tags": []
   },
   "outputs": [
    {
     "data": {
      "text/plain": [
       "'qaaaabbcccd'"
      ]
     },
     "execution_count": 92,
     "metadata": {},
     "output_type": "execute_result"
    }
   ],
   "source": [
    "run_length_decoder(['q', 'a', 'a', 4, 'b', 'b', 2, 'c', 'c', 3, 'd'])"
   ]
  },
  {
   "cell_type": "code",
   "execution_count": 93,
   "metadata": {
    "tags": []
   },
   "outputs": [
    {
     "name": "stdout",
     "output_type": "stream",
     "text": [
      "\n",
      "============================== ALL TESTS PASSED! ===============================\n",
      "Your submission code: bwdd9e7c7dc76cd758ee821609e7e7ba4b123ff6786f39ab306e3939e7\n",
      "================================================================================\n",
      "\n"
     ]
    }
   ],
   "source": [
    "# Execute this cell to grade your work\n",
    "from bwsi_grader.python.run_length_encoding import decoder_grader\n",
    "decoder_grader(run_length_decoder)"
   ]
  },
  {
   "cell_type": "code",
   "execution_count": null,
   "metadata": {},
   "outputs": [],
   "source": []
  },
  {
   "cell_type": "code",
   "execution_count": 81,
   "metadata": {
    "tags": []
   },
   "outputs": [
    {
     "data": {
      "text/plain": [
       "['v', 'v', 2, 'c']"
      ]
     },
     "execution_count": 81,
     "metadata": {},
     "output_type": "execute_result"
    }
   ],
   "source": [
    "run_length_encoder(\"vvc\")"
   ]
  },
  {
   "cell_type": "code",
   "execution_count": 80,
   "metadata": {
    "tags": []
   },
   "outputs": [],
   "source": [
    "# make sure to execute this cell so that your function is defined\n",
    "# you must re-run this cell any time you make a change to this function\n",
    "\n",
    "def run_length_encoder(in_string):\n",
    "    output = []\n",
    "    if(len(in_string) == 0):\n",
    "        return output\n",
    "    if(len(in_string) == 1):\n",
    "        output.append(in_string[0])\n",
    "        return output\n",
    "    length = 0\n",
    "    cur = in_string[0]\n",
    "    for i in range(len(in_string)):\n",
    "        if (i != len(in_string)-1):\n",
    "            if(in_string[i] == cur):\n",
    "                length+=1\n",
    "            else:\n",
    "                if(length != 1):\n",
    "                    output.append(cur)\n",
    "                    output.append(cur)\n",
    "                    output.append(length)\n",
    "                else:\n",
    "                    output.append(cur)\n",
    "                    \n",
    "                length = 1\n",
    "                cur = in_string[i]\n",
    "        else:\n",
    "                if(cur == in_string[i]):\n",
    "                    output.append(cur)\n",
    "                    output.append(cur)\n",
    "                    output.append(length+1)\n",
    "                else:\n",
    "                    if(length == 1):\n",
    "                        output.append(cur)\n",
    "                        output.append(in_string[i])\n",
    "                    else:\n",
    "                        output.append(cur)\n",
    "                        output.append(cur)\n",
    "                        output.append(length)\n",
    "                        output.append(in_string[i])\n",
    "    return output\n",
    "    # write your code here\n",
    "    # be sure to include a `return` statement so that\n",
    "    # your function returns the appropriate object."
   ]
  },
  {
   "cell_type": "code",
   "execution_count": 82,
   "metadata": {
    "tags": []
   },
   "outputs": [
    {
     "name": "stdout",
     "output_type": "stream",
     "text": [
      "\n",
      "============================== ALL TESTS PASSED! ===============================\n",
      "Your submission code: bw42a5d76dd6ae8182436ab2f9860e8c0feb30dc65224efba85b04727c\n",
      "================================================================================\n",
      "\n"
     ]
    }
   ],
   "source": [
    "# Execute this cell to grade your work\n",
    "from bwsi_grader.python.run_length_encoding import encoder_grader\n",
    "encoder_grader(run_length_encoder)"
   ]
  }
 ],
 "metadata": {
  "kernelspec": {
   "display_name": "Python 3 (ipykernel)",
   "language": "python",
   "name": "python3"
  },
  "language_info": {
   "codemirror_mode": {
    "name": "ipython",
    "version": 3
   },
   "file_extension": ".py",
   "mimetype": "text/x-python",
   "name": "python",
   "nbconvert_exporter": "python",
   "pygments_lexer": "ipython3",
   "version": "3.11.5"
  }
 },
 "nbformat": 4,
 "nbformat_minor": 4
}
